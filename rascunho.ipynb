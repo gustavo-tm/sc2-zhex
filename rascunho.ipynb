{
 "cells": [
  {
   "cell_type": "code",
   "execution_count": 1,
   "metadata": {},
   "outputs": [],
   "source": [
    "import json"
   ]
  },
  {
   "cell_type": "code",
   "execution_count": null,
   "metadata": {},
   "outputs": [],
   "source": [
    "self.time += time\n",
    "self.minerals += time * self.income/60\n",
    "for building in self.buildings:\n",
    "    building.time += time\n",
    "    building.built = building.time >= 0\n",
    "\n",
    "if time > 0:\n",
    "    self.time_2change = max([-building.time for building in self.buildings if building.time <= 0])\n",
    "else:\n",
    "    self.time_2change = min([building.time for building in self.buildings if building.time >= 0])\n",
    "\n",
    "if abs(time) > self.time_2change\n",
    "self.time += self.time_2change\n",
    "time -=  "
   ]
  }
 ],
 "metadata": {
  "kernelspec": {
   "display_name": "base",
   "language": "python",
   "name": "python3"
  },
  "language_info": {
   "codemirror_mode": {
    "name": "ipython",
    "version": 3
   },
   "file_extension": ".py",
   "mimetype": "text/x-python",
   "name": "python",
   "nbconvert_exporter": "python",
   "pygments_lexer": "ipython3",
   "version": "3.9.12"
  },
  "orig_nbformat": 4,
  "vscode": {
   "interpreter": {
    "hash": "6277c626ef6eecd7ff3e533a9fce9cb3c968710245ddebe9536b4fba8a336c35"
   }
  }
 },
 "nbformat": 4,
 "nbformat_minor": 2
}
