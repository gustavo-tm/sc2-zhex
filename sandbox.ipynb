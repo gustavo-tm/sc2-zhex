{
 "cells": [
  {
   "cell_type": "code",
   "execution_count": 1,
   "metadata": {},
   "outputs": [],
   "source": [
    "from sim import Game, Environment"
   ]
  },
  {
   "cell_type": "code",
   "execution_count": 2,
   "metadata": {},
   "outputs": [],
   "source": [
    "import numpy as np\n",
    "from tensorflow.keras.models import Sequential\n",
    "from tensorflow.keras.layers import Dense, Flatten\n",
    "from tensorflow.keras.optimizers import Adam"
   ]
  },
  {
   "cell_type": "code",
   "execution_count": 3,
   "metadata": {},
   "outputs": [],
   "source": [
    "from rl.agents import DQNAgent\n",
    "from rl.policy import BoltzmannQPolicy\n",
    "from rl.memory import SequentialMemory"
   ]
  },
  {
   "cell_type": "code",
   "execution_count": 4,
   "metadata": {},
   "outputs": [],
   "source": [
    "model = Sequential()\n",
    "model.add(Flatten(input_shape = (1, 6)))\n",
    "model.add(Dense(24, activation = \"relu\"))\n",
    "model.add(Dense(24, activation = \"relu\"))\n",
    "model.add(Dense(2, activation = \"linear\"))"
   ]
  },
  {
   "cell_type": "code",
   "execution_count": 5,
   "metadata": {},
   "outputs": [
    {
     "name": "stdout",
     "output_type": "stream",
     "text": [
      "Model: \"sequential\"\n",
      "_________________________________________________________________\n",
      "Layer (type)                 Output Shape              Param #   \n",
      "=================================================================\n",
      "flatten (Flatten)            (None, 6)                 0         \n",
      "_________________________________________________________________\n",
      "dense (Dense)                (None, 24)                168       \n",
      "_________________________________________________________________\n",
      "dense_1 (Dense)              (None, 24)                600       \n",
      "_________________________________________________________________\n",
      "dense_2 (Dense)              (None, 2)                 50        \n",
      "=================================================================\n",
      "Total params: 818\n",
      "Trainable params: 818\n",
      "Non-trainable params: 0\n",
      "_________________________________________________________________\n"
     ]
    }
   ],
   "source": [
    "model.summary()"
   ]
  },
  {
   "cell_type": "code",
   "execution_count": 6,
   "metadata": {},
   "outputs": [],
   "source": [
    "dqn = DQNAgent(\n",
    "    model = model,\n",
    "    memory = SequentialMemory(limit = 50000, window_length = 1),\n",
    "    policy = BoltzmannQPolicy(),\n",
    "    nb_actions = 2,\n",
    "    nb_steps_warmup = 10,\n",
    "    target_model_update = 1e-2\n",
    ")"
   ]
  },
  {
   "cell_type": "code",
   "execution_count": 7,
   "metadata": {},
   "outputs": [],
   "source": [
    "dqn.compile(Adam(lr = 1e-3), metrics = [\"mae\"])"
   ]
  },
  {
   "cell_type": "code",
   "execution_count": 8,
   "metadata": {},
   "outputs": [
    {
     "name": "stdout",
     "output_type": "stream",
     "text": [
      "Training for 50000 steps ...\n",
      "Interval 1 (0 steps performed)\n",
      "WARNING:tensorflow:From d:\\Programas\\Anaconda\\envs\\ai\\lib\\site-packages\\tensorflow\\python\\keras\\engine\\training_v1.py:2070: Model.state_updates (from tensorflow.python.keras.engine.training) is deprecated and will be removed in a future version.\n",
      "Instructions for updating:\n",
      "This property should not be used in TensorFlow 2.0, as updates are applied automatically.\n",
      "    1/10000 [..............................] - ETA: 4:59 - reward: 0.0000e+00"
     ]
    },
    {
     "name": "stderr",
     "output_type": "stream",
     "text": [
      "d:\\Programas\\Anaconda\\envs\\ai\\lib\\site-packages\\rl\\memory.py:37: UserWarning: Not enough entries to sample without replacement. Consider increasing your warm-up phase to avoid oversampling!\n",
      "  warnings.warn('Not enough entries to sample without replacement. Consider increasing your warm-up phase to avoid oversampling!')\n"
     ]
    },
    {
     "name": "stdout",
     "output_type": "stream",
     "text": [
      "10000/10000 [==============================] - 39s 4ms/step - reward: 11.8812\n",
      "96 episodes - episode_reward: 1236.000 [1236.000, 1236.000] - loss: 1529.080 - mae: 30.117 - mean_q: 427.026 - time: 330.085\n",
      "\n",
      "Interval 2 (10000 steps performed)\n",
      "10000/10000 [==============================] - 40s 4ms/step - reward: 11.8872\n",
      "96 episodes - episode_reward: 1236.000 [1236.000, 1236.000] - loss: 976.927 - mae: 24.352 - mean_q: 497.723 - time: 330.270\n",
      "\n",
      "Interval 3 (20000 steps performed)\n",
      "10000/10000 [==============================] - 40s 4ms/step - reward: 11.8848\n",
      "96 episodes - episode_reward: 1236.000 [1236.000, 1236.000] - loss: 164.916 - mae: 18.784 - mean_q: 482.121 - time: 330.438\n",
      "\n",
      "Interval 4 (30000 steps performed)\n",
      "10000/10000 [==============================] - 42s 4ms/step - reward: 11.8788\n",
      "96 episodes - episode_reward: 1236.000 [1236.000, 1236.000] - loss: 114.891 - mae: 17.821 - mean_q: 466.858 - time: 330.596\n",
      "\n",
      "Interval 5 (40000 steps performed)\n",
      "10000/10000 [==============================] - 46s 5ms/step - reward: 11.8908\n",
      "done, took 207.541 seconds\n"
     ]
    },
    {
     "data": {
      "text/plain": [
       "<tensorflow.python.keras.callbacks.History at 0x1cd2c7c2408>"
      ]
     },
     "execution_count": 8,
     "metadata": {},
     "output_type": "execute_result"
    }
   ],
   "source": [
    "dqn.fit(Environment(), nb_steps = 50000, visualize = False, verbose = 1)"
   ]
  },
  {
   "cell_type": "code",
   "execution_count": 9,
   "metadata": {},
   "outputs": [
    {
     "name": "stdout",
     "output_type": "stream",
     "text": [
      "Testing for 100 episodes ...\n",
      "Episode 1: reward: 1236.000, steps: 104\n"
     ]
    },
    {
     "name": "stdout",
     "output_type": "stream",
     "text": [
      "Episode 2: reward: 1236.000, steps: 104\n",
      "Episode 3: reward: 1236.000, steps: 104\n",
      "Episode 4: reward: 1236.000, steps: 104\n",
      "Episode 5: reward: 1236.000, steps: 104\n",
      "Episode 6: reward: 1236.000, steps: 104\n",
      "Episode 7: reward: 1236.000, steps: 104\n",
      "Episode 8: reward: 1236.000, steps: 104\n",
      "Episode 9: reward: 1236.000, steps: 104\n",
      "Episode 10: reward: 1236.000, steps: 104\n",
      "Episode 11: reward: 1236.000, steps: 104\n",
      "Episode 12: reward: 1236.000, steps: 104\n",
      "Episode 13: reward: 1236.000, steps: 104\n",
      "Episode 14: reward: 1236.000, steps: 104\n",
      "Episode 15: reward: 1236.000, steps: 104\n",
      "Episode 16: reward: 1236.000, steps: 104\n",
      "Episode 17: reward: 1236.000, steps: 104\n",
      "Episode 18: reward: 1236.000, steps: 104\n",
      "Episode 19: reward: 1236.000, steps: 104\n",
      "Episode 20: reward: 1236.000, steps: 104\n",
      "Episode 21: reward: 1236.000, steps: 104\n",
      "Episode 22: reward: 1236.000, steps: 104\n",
      "Episode 23: reward: 1236.000, steps: 104\n",
      "Episode 24: reward: 1236.000, steps: 104\n",
      "Episode 25: reward: 1236.000, steps: 104\n",
      "Episode 26: reward: 1236.000, steps: 104\n",
      "Episode 27: reward: 1236.000, steps: 104\n",
      "Episode 28: reward: 1236.000, steps: 104\n",
      "Episode 29: reward: 1236.000, steps: 104\n",
      "Episode 30: reward: 1236.000, steps: 104\n",
      "Episode 31: reward: 1236.000, steps: 104\n",
      "Episode 32: reward: 1236.000, steps: 104\n",
      "Episode 33: reward: 1236.000, steps: 104\n",
      "Episode 34: reward: 1236.000, steps: 104\n",
      "Episode 35: reward: 1236.000, steps: 104\n",
      "Episode 36: reward: 1236.000, steps: 104\n",
      "Episode 37: reward: 1236.000, steps: 104\n",
      "Episode 38: reward: 1236.000, steps: 104\n",
      "Episode 39: reward: 1236.000, steps: 104\n",
      "Episode 40: reward: 1236.000, steps: 104\n",
      "Episode 41: reward: 1236.000, steps: 104\n",
      "Episode 42: reward: 1236.000, steps: 104\n",
      "Episode 43: reward: 1236.000, steps: 104\n",
      "Episode 44: reward: 1236.000, steps: 104\n",
      "Episode 45: reward: 1236.000, steps: 104\n",
      "Episode 46: reward: 1236.000, steps: 104\n",
      "Episode 47: reward: 1236.000, steps: 104\n",
      "Episode 48: reward: 1236.000, steps: 104\n",
      "Episode 49: reward: 1236.000, steps: 104\n",
      "Episode 50: reward: 1236.000, steps: 104\n",
      "Episode 51: reward: 1236.000, steps: 104\n",
      "Episode 52: reward: 1236.000, steps: 104\n",
      "Episode 53: reward: 1236.000, steps: 104\n",
      "Episode 54: reward: 1236.000, steps: 104\n",
      "Episode 55: reward: 1236.000, steps: 104\n",
      "Episode 56: reward: 1236.000, steps: 104\n",
      "Episode 57: reward: 1236.000, steps: 104\n",
      "Episode 58: reward: 1236.000, steps: 104\n",
      "Episode 59: reward: 1236.000, steps: 104\n",
      "Episode 60: reward: 1236.000, steps: 104\n",
      "Episode 61: reward: 1236.000, steps: 104\n",
      "Episode 62: reward: 1236.000, steps: 104\n",
      "Episode 63: reward: 1236.000, steps: 104\n",
      "Episode 64: reward: 1236.000, steps: 104\n",
      "Episode 65: reward: 1236.000, steps: 104\n",
      "Episode 66: reward: 1236.000, steps: 104\n",
      "Episode 67: reward: 1236.000, steps: 104\n",
      "Episode 68: reward: 1236.000, steps: 104\n",
      "Episode 69: reward: 1236.000, steps: 104\n",
      "Episode 70: reward: 1236.000, steps: 104\n",
      "Episode 71: reward: 1236.000, steps: 104\n",
      "Episode 72: reward: 1236.000, steps: 104\n",
      "Episode 73: reward: 1236.000, steps: 104\n",
      "Episode 74: reward: 1236.000, steps: 104\n",
      "Episode 75: reward: 1236.000, steps: 104\n",
      "Episode 76: reward: 1236.000, steps: 104\n",
      "Episode 77: reward: 1236.000, steps: 104\n",
      "Episode 78: reward: 1236.000, steps: 104\n",
      "Episode 79: reward: 1236.000, steps: 104\n",
      "Episode 80: reward: 1236.000, steps: 104\n",
      "Episode 81: reward: 1236.000, steps: 104\n",
      "Episode 82: reward: 1236.000, steps: 104\n",
      "Episode 83: reward: 1236.000, steps: 104\n",
      "Episode 84: reward: 1236.000, steps: 104\n",
      "Episode 85: reward: 1236.000, steps: 104\n",
      "Episode 86: reward: 1236.000, steps: 104\n",
      "Episode 87: reward: 1236.000, steps: 104\n",
      "Episode 88: reward: 1236.000, steps: 104\n",
      "Episode 89: reward: 1236.000, steps: 104\n",
      "Episode 90: reward: 1236.000, steps: 104\n",
      "Episode 91: reward: 1236.000, steps: 104\n",
      "Episode 92: reward: 1236.000, steps: 104\n",
      "Episode 93: reward: 1236.000, steps: 104\n",
      "Episode 94: reward: 1236.000, steps: 104\n",
      "Episode 95: reward: 1236.000, steps: 104\n",
      "Episode 96: reward: 1236.000, steps: 104\n",
      "Episode 97: reward: 1236.000, steps: 104\n",
      "Episode 98: reward: 1236.000, steps: 104\n",
      "Episode 99: reward: 1236.000, steps: 104\n",
      "Episode 100: reward: 1236.000, steps: 104\n"
     ]
    },
    {
     "data": {
      "text/plain": [
       "<tensorflow.python.keras.callbacks.History at 0x1cd2c7d1a48>"
      ]
     },
     "execution_count": 9,
     "metadata": {},
     "output_type": "execute_result"
    }
   ],
   "source": [
    "dqn.test(Environment(), nb_episodes = 100, visualize = False)"
   ]
  },
  {
   "cell_type": "code",
   "execution_count": null,
   "metadata": {},
   "outputs": [],
   "source": []
  }
 ],
 "metadata": {
  "kernelspec": {
   "display_name": "dev",
   "language": "python",
   "name": "python3"
  },
  "language_info": {
   "codemirror_mode": {
    "name": "ipython",
    "version": 3
   },
   "file_extension": ".py",
   "mimetype": "text/x-python",
   "name": "python",
   "nbconvert_exporter": "python",
   "pygments_lexer": "ipython3",
   "version": "3.7.16"
  },
  "orig_nbformat": 4
 },
 "nbformat": 4,
 "nbformat_minor": 2
}
